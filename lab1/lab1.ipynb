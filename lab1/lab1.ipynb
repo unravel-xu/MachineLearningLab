{
 "cells": [
  {
   "cell_type": "markdown",
   "source": [
    "* 1. 生成数据，加入噪声\r\n",
    "* 2. 用高阶多项式函数拟合曲线\r\n",
    "* 3. 用解析解求解两种loss的最优解（无正则项和有正则项）\r\n",
    "* 4. 优化方法求解最优解（梯度下降，共轭梯度）\r\n",
    "* 5. 用你得到的实验数据，解释过拟合\r\n",
    "* 6. 用不同数据量，不同超参数，不同的多项式阶数，比较实验效果\r\n",
    "* 7. 语言不限，可以用matlab，python。求解解析解时可以利用现成的矩阵求逆。梯度下降，共轭梯度要求自己求梯度，迭代优化自己写。不许用现成的平台，例如pytorch，tensorflow的自动微分工具。"
   ],
   "metadata": {}
  }
 ],
 "metadata": {
  "orig_nbformat": 4,
  "language_info": {
   "name": "python",
   "version": "3.7.10",
   "mimetype": "text/x-python",
   "codemirror_mode": {
    "name": "ipython",
    "version": 3
   },
   "pygments_lexer": "ipython3",
   "nbconvert_exporter": "python",
   "file_extension": ".py"
  },
  "kernelspec": {
   "name": "python3",
   "display_name": "Python 3.7.10 64-bit ('RMI': conda)"
  },
  "interpreter": {
   "hash": "b2f003d28d65dddce81ea202f07a146b623d4cc9e0e689826a7ec4eb2047aba8"
  }
 },
 "nbformat": 4,
 "nbformat_minor": 2
}